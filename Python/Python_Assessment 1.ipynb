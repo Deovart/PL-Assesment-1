{
  "nbformat": 4,
  "nbformat_minor": 0,
  "metadata": {
    "kernelspec": {
      "display_name": "Python 3",
      "language": "python",
      "name": "python3"
    },
    "language_info": {
      "codemirror_mode": {
        "name": "ipython",
        "version": 3
      },
      "file_extension": ".py",
      "mimetype": "text/x-python",
      "name": "python",
      "nbconvert_exporter": "python",
      "pygments_lexer": "ipython3",
      "version": "3.6.7"
    },
    "colab": {
      "name": "Python_Assessment.ipynb",
      "provenance": []
    }
  },
  "cells": [
    {
      "cell_type": "markdown",
      "metadata": {
        "deletable": false,
        "editable": false,
        "id": "ImndpEuXfZ6t"
      },
      "source": [
        "## Assignment for Practice\n",
        "\n",
        ">> - <font size=3>You are allowed to create as many cells as you need, without disturbing the Problem Cells and Format of Response Cells.</font>\n",
        ">> - <font size=3>Feel free to refer to the resources availabe online (Google/Bing whatever).</font>"
      ]
    },
    {
      "cell_type": "markdown",
      "metadata": {
        "deletable": false,
        "editable": false,
        "id": "cRERxC0OfZ63"
      },
      "source": [
        "## Import the necessary libraries:"
      ]
    },
    {
      "cell_type": "code",
      "metadata": {
        "id": "sPAHipFDfZ65"
      },
      "source": [
        "\n"
      ],
      "execution_count": null,
      "outputs": []
    },
    {
      "cell_type": "markdown",
      "metadata": {
        "deletable": false,
        "editable": false,
        "id": "cKfou-FQfZ67"
      },
      "source": [
        "### 1. Find number of columns and rows."
      ]
    },
    {
      "cell_type": "code",
      "metadata": {
        "id": "FyB7HAM2fZ68"
      },
      "source": [
        ""
      ],
      "execution_count": null,
      "outputs": []
    },
    {
      "cell_type": "markdown",
      "metadata": {
        "id": "CIAAljlKfZ69"
      },
      "source": [
        "Rows: \n",
        "\n",
        "Columns: "
      ]
    },
    {
      "cell_type": "markdown",
      "metadata": {
        "deletable": false,
        "editable": false,
        "id": "nh-rbJ9tILI2"
      },
      "source": [
        "### 2. Which is(are) the most frequent rating(s)? Share your insights that can be generated from the output."
      ]
    },
    {
      "cell_type": "code",
      "metadata": {
        "id": "qLtrS4_4fZ7B"
      },
      "source": [
        "\n"
      ],
      "execution_count": null,
      "outputs": []
    },
    {
      "cell_type": "markdown",
      "metadata": {
        "id": "_Vr_eDVHfZ7C"
      },
      "source": [
        "\n",
        "\n",
        "\n",
        "\n",
        "..."
      ]
    },
    {
      "cell_type": "markdown",
      "metadata": {
        "deletable": false,
        "editable": false,
        "id": "5CXzbJovfZ7E"
      },
      "source": [
        "### 3. Which columns have missing values and how many values are missing? What is the importance of treating missing values, and list down a few ways of treating missing values."
      ]
    },
    {
      "cell_type": "code",
      "metadata": {
        "id": "FmRqjFEsfZ7F"
      },
      "source": [
        ""
      ],
      "execution_count": null,
      "outputs": []
    },
    {
      "cell_type": "markdown",
      "metadata": {
        "id": "ZEtNRtkrfZ7G"
      },
      "source": [
        "`Replace values of cols and vals with your values. Increase/Decrease the table if needed.`\n",
        "\n",
        "| COLUMN | VALUE |\n",
        "|--------|-------|\n",
        "| col1   | val1  |\n",
        "| col2   | val2  |\n",
        "| ....   | ....  |"
      ]
    },
    {
      "cell_type": "markdown",
      "metadata": {
        "deletable": false,
        "editable": false,
        "id": "ozJuAWzCfZ7H"
      },
      "source": [
        "### 4. Create a set 'data_types', of the different data types of features."
      ]
    },
    {
      "cell_type": "markdown",
      "metadata": {
        "id": "59ZDbIVsfZ7I"
      },
      "source": [
        "data_types = "
      ]
    },
    {
      "cell_type": "code",
      "metadata": {
        "id": "XRe59noofZ7I"
      },
      "source": [
        ""
      ],
      "execution_count": null,
      "outputs": []
    },
    {
      "cell_type": "code",
      "metadata": {
        "id": "k4sUjuGcmkMh"
      },
      "source": [
        ""
      ],
      "execution_count": null,
      "outputs": []
    },
    {
      "cell_type": "markdown",
      "metadata": {
        "deletable": false,
        "editable": false,
        "id": "hy6Mp6qIfZ7J"
      },
      "source": [
        "### 5. Create a Group By according to the movie length and derive additional statistics about each group (mean, median, mode, etc.)"
      ]
    },
    {
      "cell_type": "code",
      "metadata": {
        "id": "5W4ZFucTfZ7J"
      },
      "source": [
        ""
      ],
      "execution_count": null,
      "outputs": []
    },
    {
      "cell_type": "markdown",
      "metadata": {
        "id": "yAjwXcmGfZ7J"
      },
      "source": [
        ""
      ]
    },
    {
      "cell_type": "markdown",
      "metadata": {
        "deletable": false,
        "editable": false,
        "id": "ALYCOj2FfZ7J"
      },
      "source": [
        "### 6. Create a dictionary 'top_rated' of top 10 movies based on rating, using Title as key and rating as value."
      ]
    },
    {
      "cell_type": "code",
      "metadata": {
        "id": "HfOw7eZHfZ7K"
      },
      "source": [
        ""
      ],
      "execution_count": null,
      "outputs": []
    },
    {
      "cell_type": "markdown",
      "metadata": {
        "id": "3ZBjuKJXfZ7K"
      },
      "source": [
        "top_rated = "
      ]
    },
    {
      "cell_type": "markdown",
      "metadata": {
        "deletable": false,
        "editable": false,
        "id": "0yyRzwjPfZ7K"
      },
      "source": [
        "### 7. Which year has the best average rating of movies?"
      ]
    },
    {
      "cell_type": "code",
      "metadata": {
        "id": "PCKCM725fZ7L"
      },
      "source": [
        ""
      ],
      "execution_count": null,
      "outputs": []
    },
    {
      "cell_type": "markdown",
      "metadata": {
        "id": "kxDhcLqdfZ7L"
      },
      "source": [
        ""
      ]
    },
    {
      "cell_type": "markdown",
      "metadata": {
        "deletable": false,
        "editable": false,
        "id": "Ow6z8_kufZ7L"
      },
      "source": [
        "### 8. How many horror movies have rating 7 or above, given number of votes >= 50000?"
      ]
    },
    {
      "cell_type": "code",
      "metadata": {
        "id": "RSiyJNCpfZ7L"
      },
      "source": [
        ""
      ],
      "execution_count": null,
      "outputs": []
    },
    {
      "cell_type": "markdown",
      "metadata": {
        "id": "__mbKF85fZ7L"
      },
      "source": [
        "Count: 7"
      ]
    },
    {
      "cell_type": "markdown",
      "metadata": {
        "deletable": false,
        "editable": false,
        "id": "Ri6P-SVBfZ7M"
      },
      "source": [
        "### 9. What is the mean revenue of all the movies rated in range 8 - 9 and all movies rated in range 4 - 5? (Including the upper and lower limits)"
      ]
    },
    {
      "cell_type": "code",
      "metadata": {
        "id": "JbGM8fMYfZ7M"
      },
      "source": [
        ""
      ],
      "execution_count": null,
      "outputs": []
    },
    {
      "cell_type": "markdown",
      "metadata": {
        "id": "Q5aamzvwfZ7M"
      },
      "source": [
        ""
      ]
    },
    {
      "cell_type": "markdown",
      "metadata": {
        "deletable": false,
        "editable": false,
        "id": "LE0xJFUbfZ7M"
      },
      "source": [
        "### 10. Capitalize the Directors' names by applying a function."
      ]
    },
    {
      "cell_type": "code",
      "metadata": {
        "id": "gnHGeEAUfZ7M"
      },
      "source": [
        ""
      ],
      "execution_count": null,
      "outputs": []
    },
    {
      "cell_type": "markdown",
      "metadata": {
        "deletable": false,
        "editable": false,
        "id": "Yu1Dk7QffZ7N"
      },
      "source": [
        "### 11. Find the mean value of columns having null values and Impute the null values using mean value of their respective columns."
      ]
    },
    {
      "cell_type": "code",
      "metadata": {
        "id": "2vBV0MKcfZ7N"
      },
      "source": [
        "\n"
      ],
      "execution_count": null,
      "outputs": []
    },
    {
      "cell_type": "markdown",
      "metadata": {
        "deletable": false,
        "editable": false,
        "id": "aZtQb5HofZ7N"
      },
      "source": [
        "### 12. Create a new column 'Score' using Rating and Metascore such that score is in %. (Consider rescaling if needed)."
      ]
    },
    {
      "cell_type": "code",
      "metadata": {
        "id": "VDDvhhCOfZ7N"
      },
      "source": [
        ""
      ],
      "execution_count": null,
      "outputs": []
    },
    {
      "cell_type": "markdown",
      "metadata": {
        "deletable": false,
        "editable": false,
        "id": "FyjZW2QwfZ7O"
      },
      "source": [
        "### 13. List out Top 10 movies based on rating which can be categorised in Animation genre."
      ]
    },
    {
      "cell_type": "code",
      "metadata": {
        "id": "FpIvOcIdfZ7O"
      },
      "source": [
        ""
      ],
      "execution_count": null,
      "outputs": []
    },
    {
      "cell_type": "markdown",
      "metadata": {
        "id": "Zwt_BOR2fZ7P"
      },
      "source": [
        "List of Top 10 Animation: "
      ]
    },
    {
      "cell_type": "markdown",
      "metadata": {
        "deletable": false,
        "editable": false,
        "id": "b4IB9JlRfZ7P"
      },
      "source": [
        "### 14. How many different actors are mentioned in the data, and how many of them are in exactly 8 movies?"
      ]
    },
    {
      "cell_type": "code",
      "metadata": {
        "id": "jk0JVT_PfZ7P"
      },
      "source": [
        ""
      ],
      "execution_count": null,
      "outputs": []
    },
    {
      "cell_type": "markdown",
      "metadata": {
        "id": "F_7bcNbYfZ7P"
      },
      "source": [
        "Total Number of Actors:\n",
        "\n",
        "Actors in 8 Movies: "
      ]
    },
    {
      "cell_type": "markdown",
      "metadata": {
        "deletable": false,
        "editable": false,
        "id": "ROtGXHs9fZ7Q"
      },
      "source": [
        "### 15. Plot the Bar Chart of movies genre having following properties - Grid, a Title and Size of Figure (10,8)."
      ]
    },
    {
      "cell_type": "code",
      "metadata": {
        "id": "Onoor29dfZ7Q"
      },
      "source": [
        "\n",
        "\n",
        "\n"
      ],
      "execution_count": null,
      "outputs": []
    },
    {
      "cell_type": "markdown",
      "metadata": {
        "deletable": false,
        "editable": false,
        "id": "IzWLtO8cfZ7Q"
      },
      "source": [
        "### 16. Draw a Pie Chart of Mean Revenue of each genre showing proper labels and values upto two decimal places and each sector separated from others."
      ]
    },
    {
      "cell_type": "code",
      "metadata": {
        "id": "h0CEDXqmfZ7R"
      },
      "source": [
        ""
      ],
      "execution_count": null,
      "outputs": []
    },
    {
      "cell_type": "markdown",
      "metadata": {
        "deletable": false,
        "editable": false,
        "id": "YsaGX9wsfZ7R"
      },
      "source": [
        "### 17. Create a Boxplot of Runtime oriented horizontally."
      ]
    },
    {
      "cell_type": "code",
      "metadata": {
        "id": "XFmrTsmvfZ7R"
      },
      "source": [
        ""
      ],
      "execution_count": null,
      "outputs": []
    },
    {
      "cell_type": "markdown",
      "metadata": {
        "id": "4hMht9ac5DZD"
      },
      "source": [
        "####18. Who do you think is the most successful director and why? (Consider Revenue, metascore, Rating as your factors)"
      ]
    },
    {
      "cell_type": "code",
      "metadata": {
        "id": "-1Rf3LZ95BSw"
      },
      "source": [
        ""
      ],
      "execution_count": null,
      "outputs": []
    },
    {
      "cell_type": "markdown",
      "metadata": {
        "id": "A1WOx_PUfZ7S"
      },
      "source": [
        ">><font size=6, color=blue>Thank You</font>"
      ]
    }
  ]
}